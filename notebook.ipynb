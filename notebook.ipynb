{
 "cells": [
  {
   "cell_type": "markdown",
   "metadata": {
    "pycharm": {
     "name": "#%% md\n"
    }
   },
   "source": [
    "# Glucose Data Science\n",
    "---\n",
    "Goal: The goal of this experiment is to see if it is possible to predict which days I have exercised based on the days\n",
    "blood glucose readings.\n",
    "Stretch Goal: Predict the type of excercise.\n",
    "\n",
    "### Technology:\n",
    "- Apple HealthKit\n",
    "- Dexcom Continuous Glucose Monitor\n",
    "- Datascience\n",
    "\n",
    "### High Level Objectives:\n",
    "- Gather Data\n",
    "- Clean Up Data\n",
    "- Inspect Data\n",
    "- ML with Data\n",
    "\n",
    "### Background Information:\n",
    " I have __Type 1 Diabetes__ which is an auto-immune disease that causes my body to attack the insulin\n",
    " producing cells in my pancreas. Insulin is what helps your body use the energy (glucose) in the food you eat. To manage\n",
    " this disease I use some extremely cool pieces of technology. One is a continuous glucose monitor called a __Dexcom__\n",
    " CGM. I wear this cgm on my body, and it measures the amount of glucose in my interstitial fluid ( also known as the\n",
    " fluid between cells) every 5 minutes. That data is then sent to my phone ( even allowing me to view my real time\n",
    " glucose on my Apple Watch! ) as well as my insulin pump. This data, as well as other information is used to help manage\n",
    " my Diabetes.\n",
    "\n",
    " It has been my personal experience, that when I exercise, I tend to have higher insulin sensitivity, usually meaning\n",
    " better blood glucose numbers throughout the day. Your blood glucose is what your body automatically regulates on its\n",
    " own with insulin, but must be done manually as a type 1 diabetic.\n",
    "\n",
    " The goal of this exercise is to see if I can pull that correlation out with data, and possibly see if I can use a\n",
    " Machine Learning Model to predict which days I exercised, based only off my glucose data."
   ]
  },
  {
   "cell_type": "markdown",
   "metadata": {},
   "source": [
    "# Gather Data\n",
    "---\n",
    "The source of the excercise data will be apple healthkit. Apple Healthkit automatically has my excercise data in it from when I\n",
    "track workouts. It also can be configured to sync with the Dexcom iOS app. So now lets see if we can download and load\n",
    "that data.\n",
    "\n",
    "## Export data from phone:\n",
    "- Navigate to health app\n",
    "- click on your profile icon\n",
    "- scroll to bottom and click export all health data\n",
    "- this may take a few minutes\n",
    "- donwload zip\n",
    "- expand zip\n",
    "- this data is pretty sensitive, so don't commit it to git!\n"
   ]
  },
  {
   "cell_type": "code",
   "execution_count": 4,
   "metadata": {},
   "outputs": [
    {
     "name": "stdout",
     "output_type": "stream",
     "text": [
      "The version of python is:  3.6.8 (v3.6.8:3c6b436a57, Dec 24 2018, 02:04:31) \n",
      "[GCC 4.2.1 Compatible Apple LLVM 6.0 (clang-600.0.57)]\n"
     ]
    }
   ],
   "source": [
    "import sys\n",
    "print(\"The version of python is: \", sys.version)"
   ]
  },
  {
   "cell_type": "markdown",
   "metadata": {
    "pycharm": {
     "name": "#%% md\n"
    }
   },
   "source": [
    "# Let's import this data into pandas"
   ]
  },
  {
   "cell_type": "code",
   "execution_count": 5,
   "metadata": {
    "pycharm": {
     "name": "#%%\n"
    }
   },
   "outputs": [],
   "source": [
    "import pandas as pd\n",
    "import xmltodict\n",
    "input_path = './apple_health_export/export.xml'\n",
    "with open(input_path, 'r') as xml_file:\n",
    "    input_data = xmltodict.parse(xml_file.read())\n",
    "\n",
    "# available health records\n",
    "# thanks to this article for explaining:\n",
    "#   https://medium.com/better-programming/analyze-your-icloud-health-data-with-pandas-dd5e963e902f\n",
    "records_list = input_data['HealthData']['Record']"
   ]
  },
  {
   "cell_type": "code",
   "execution_count": 6,
   "metadata": {
    "pycharm": {
     "name": "#%%\n"
    }
   },
   "outputs": [],
   "source": [
    "df = pd.DataFrame(records_list)"
   ]
  },
  {
   "cell_type": "code",
   "execution_count": 7,
   "metadata": {
    "pycharm": {
     "name": "#%%\n"
    }
   },
   "outputs": [
    {
     "data": {
      "text/plain": "Index(['@type', '@sourceName', '@unit', '@creationDate', '@startDate',\n       '@endDate', '@value', 'MetadataEntry', '@sourceVersion', '@device',\n       'HeartRateVariabilityMetadataList'],\n      dtype='object')"
     },
     "execution_count": 7,
     "metadata": {},
     "output_type": "execute_result"
    }
   ],
   "source": [
    "df.columns"
   ]
  },
  {
   "cell_type": "code",
   "execution_count": 8,
   "metadata": {
    "pycharm": {
     "name": "#%%\n"
    }
   },
   "outputs": [
    {
     "data": {
      "text/plain": "array(['HKQuantityTypeIdentifierBloodGlucose',\n       'HKQuantityTypeIdentifierBodyMassIndex',\n       'HKQuantityTypeIdentifierHeight',\n       'HKQuantityTypeIdentifierBodyMass',\n       'HKQuantityTypeIdentifierHeartRate',\n       'HKQuantityTypeIdentifierBodyFatPercentage',\n       'HKQuantityTypeIdentifierLeanBodyMass',\n       'HKQuantityTypeIdentifierStepCount',\n       'HKQuantityTypeIdentifierDistanceWalkingRunning',\n       'HKQuantityTypeIdentifierBasalEnergyBurned',\n       'HKQuantityTypeIdentifierActiveEnergyBurned',\n       'HKQuantityTypeIdentifierFlightsClimbed',\n       'HKQuantityTypeIdentifierAppleExerciseTime',\n       'HKQuantityTypeIdentifierDistanceCycling',\n       'HKQuantityTypeIdentifierDistanceSwimming',\n       'HKQuantityTypeIdentifierSwimmingStrokeCount',\n       'HKQuantityTypeIdentifierRestingHeartRate',\n       'HKQuantityTypeIdentifierVO2Max',\n       'HKQuantityTypeIdentifierWalkingHeartRateAverage',\n       'HKQuantityTypeIdentifierEnvironmentalAudioExposure',\n       'HKQuantityTypeIdentifierHeadphoneAudioExposure',\n       'HKQuantityTypeIdentifierWalkingDoubleSupportPercentage',\n       'HKQuantityTypeIdentifierSixMinuteWalkTestDistance',\n       'HKQuantityTypeIdentifierAppleStandTime',\n       'HKQuantityTypeIdentifierWalkingSpeed',\n       'HKQuantityTypeIdentifierWalkingStepLength',\n       'HKQuantityTypeIdentifierWalkingAsymmetryPercentage',\n       'HKQuantityTypeIdentifierStairAscentSpeed',\n       'HKQuantityTypeIdentifierStairDescentSpeed',\n       'HKDataTypeSleepDurationGoal',\n       'HKCategoryTypeIdentifierSleepAnalysis',\n       'HKCategoryTypeIdentifierAppleStandHour',\n       'HKCategoryTypeIdentifierMindfulSession',\n       'HKCategoryTypeIdentifierAudioExposureEvent',\n       'HKCategoryTypeIdentifierLowCardioFitnessEvent',\n       'HKCategoryTypeIdentifierHandwashingEvent',\n       'HKQuantityTypeIdentifierHeartRateVariabilitySDNN'], dtype=object)"
     },
     "execution_count": 8,
     "metadata": {},
     "output_type": "execute_result"
    }
   ],
   "source": [
    "# Show All data types\n",
    "df['@type'].unique()"
   ]
  },
  {
   "cell_type": "code",
   "execution_count": 9,
   "metadata": {
    "pycharm": {
     "name": "#%%\n"
    }
   },
   "outputs": [
    {
     "data": {
      "text/plain": "array([nan,\n       '<<HKDevice: 0x2821663f0>, name:Apple Watch, manufacturer:Apple, model:Watch, hardware:Watch3,2, software:5.0>',\n       '<<HKDevice: 0x282166300>, name:Apple Watch, manufacturer:Apple, model:Watch, hardware:Watch3,2, software:5.0>',\n       ...,\n       '<<HKDevice: 0x28214a800>, name:Apple Watch, manufacturer:Apple Inc., model:Watch, hardware:Watch5,4, software:7.2>',\n       '<<HKDevice: 0x28214a350>, name:Apple Watch, manufacturer:Apple Inc., model:Watch, hardware:Watch5,4, software:7.2>',\n       '<<HKDevice: 0x28214a300>, name:Apple Watch, manufacturer:Apple Inc., model:Watch, hardware:Watch5,4, software:7.3>'],\n      dtype=object)"
     },
     "execution_count": 9,
     "metadata": {},
     "output_type": "execute_result"
    }
   ],
   "source": [
    "# show all source types\n",
    "df['@device'].unique()"
   ]
  },
  {
   "cell_type": "code",
   "execution_count": 14,
   "outputs": [],
   "source": [
    "# Limit Data to phone\n",
    "# df = df[df['@sourceName'].str.contains('iPhone')]"
   ],
   "metadata": {
    "collapsed": false,
    "pycharm": {
     "name": "#%%\n"
    }
   }
  },
  {
   "cell_type": "markdown",
   "metadata": {
    "pycharm": {
     "name": "#%% md\n"
    }
   },
   "source": [
    "### Before working with glucose data, lets try a quick exp with step counts similar to the guide above."
   ]
  },
  {
   "cell_type": "code",
   "execution_count": 15,
   "metadata": {
    "pycharm": {
     "name": "#%%\n"
    }
   },
   "outputs": [],
   "source": [
    "step_counts = df[df['@type'] == 'HKQuantityTypeIdentifierStepCount']"
   ]
  },
  {
   "cell_type": "code",
   "execution_count": 16,
   "outputs": [
    {
     "name": "stderr",
     "output_type": "stream",
     "text": [
      "/Users/ddiaz/src/glucose-datascience/venv/lib/python3.6/site-packages/ipykernel_launcher.py:5: SettingWithCopyWarning: \n",
      "A value is trying to be set on a copy of a slice from a DataFrame.\n",
      "Try using .loc[row_indexer,col_indexer] = value instead\n",
      "\n",
      "See the caveats in the documentation: https://pandas.pydata.org/pandas-docs/stable/user_guide/indexing.html#returning-a-view-versus-a-copy\n",
      "  \"\"\"\n",
      "/Users/ddiaz/src/glucose-datascience/venv/lib/python3.6/site-packages/ipykernel_launcher.py:7: SettingWithCopyWarning: \n",
      "A value is trying to be set on a copy of a slice from a DataFrame.\n",
      "Try using .loc[row_indexer,col_indexer] = value instead\n",
      "\n",
      "See the caveats in the documentation: https://pandas.pydata.org/pandas-docs/stable/user_guide/indexing.html#returning-a-view-versus-a-copy\n",
      "  import sys\n",
      "/Users/ddiaz/src/glucose-datascience/venv/lib/python3.6/site-packages/ipykernel_launcher.py:9: SettingWithCopyWarning: \n",
      "A value is trying to be set on a copy of a slice from a DataFrame.\n",
      "Try using .loc[row_indexer,col_indexer] = value instead\n",
      "\n",
      "See the caveats in the documentation: https://pandas.pydata.org/pandas-docs/stable/user_guide/indexing.html#returning-a-view-versus-a-copy\n",
      "  if __name__ == '__main__':\n",
      "/Users/ddiaz/src/glucose-datascience/venv/lib/python3.6/site-packages/pandas/core/indexing.py:1743: SettingWithCopyWarning: \n",
      "A value is trying to be set on a copy of a slice from a DataFrame.\n",
      "Try using .loc[row_indexer,col_indexer] = value instead\n",
      "\n",
      "See the caveats in the documentation: https://pandas.pydata.org/pandas-docs/stable/user_guide/indexing.html#returning-a-view-versus-a-copy\n",
      "  isetter(ilocs[0], value)\n"
     ]
    }
   ],
   "source": [
    "# note the data is in this format: 2014-10-15 23:09:19 -0800\n",
    "# the medium article includes a bug, dont use the format, use s\n",
    "# format = '%Y-%m-%d %H:%M:%S %z'\n",
    "df['@creationDate'] = pd.to_datetime(df['@creationDate'],\n",
    "                                     format='s')\n",
    "df['@startDate'] = pd.to_datetime(df['@startDate'],\n",
    "                                  format='s')\n",
    "df['@endDate'] = pd.to_datetime(df['@endDate'],\n",
    "                                format='s')\n",
    "step_counts.loc[:, '@value'] = pd.to_numeric(\n",
    "    step_counts.loc[:, '@value'])"
   ],
   "metadata": {
    "collapsed": false,
    "pycharm": {
     "name": "#%%\n"
    }
   }
  },
  {
   "cell_type": "code",
   "execution_count": 17,
   "metadata": {
    "pycharm": {
     "name": "#%%\n"
    }
   },
   "outputs": [],
   "source": [
    "step_counts_by_creation = step_counts.groupby('@creationDate').sum()\n",
    "by_day = step_counts_by_creation['@value'].resample('D').sum()"
   ]
  },
  {
   "cell_type": "markdown",
   "metadata": {
    "pycharm": {
     "name": "#%% md\n"
    }
   },
   "source": [
    "### Days with most steps"
   ]
  },
  {
   "cell_type": "code",
   "execution_count": 18,
   "metadata": {
    "pycharm": {
     "name": "#%%\n"
    }
   },
   "outputs": [
    {
     "data": {
      "text/plain": "@creationDate\n2018-10-03 00:00:00-08:00    47483\n2015-11-13 00:00:00-08:00    36464\n2015-02-27 00:00:00-08:00    36437\n2014-12-13 00:00:00-08:00    32924\n2018-07-20 00:00:00-08:00    29574\n2018-09-28 00:00:00-08:00    28795\n2018-10-07 00:00:00-08:00    27913\n2018-10-06 00:00:00-08:00    26725\n2019-07-05 00:00:00-08:00    26236\n2015-01-13 00:00:00-08:00    24835\nName: @value, dtype: int64"
     },
     "execution_count": 18,
     "metadata": {},
     "output_type": "execute_result"
    }
   ],
   "source": [
    "by_day.sort_values(ascending=False)[:10]"
   ]
  },
  {
   "cell_type": "markdown",
   "source": [
    "Something super fascinating about days where i had the most steps, a mojority of them were days I was flying.\n",
    "Im  not sure if that is because I was walking a lot while traveling or random jiggles from the plane registering\n",
    "as steps lol."
   ],
   "metadata": {
    "collapsed": false,
    "pycharm": {
     "name": "#%% md\n"
    }
   }
  },
  {
   "cell_type": "markdown",
   "metadata": {
    "pycharm": {
     "name": "#%% md\n"
    }
   },
   "source": [
    "### Ok let's gather the glucose and workout data\n"
   ]
  },
  {
   "cell_type": "code",
   "execution_count": 20,
   "metadata": {
    "pycharm": {
     "name": "#%%\n"
    }
   },
   "outputs": [
    {
     "name": "stdout",
     "output_type": "stream",
     "text": [
      "['<<HKDevice: 0x2821651d0>, name:iPhone, manufacturer:Apple, model:iPhone, hardware:iPhone11,6, software:12.0>'\n",
      " nan\n",
      " '<<HKDevice: 0x2821e99a0>, name:iPhone, manufacturer:Apple, model:iPhone, hardware:iPhone6,1, software:9.0>'\n",
      " ...\n",
      " '<<HKDevice: 0x28216d130>, name:iPhone, manufacturer:Apple Inc., model:iPhone, hardware:iPhone13,4, software:14.3>'\n",
      " '<<HKDevice: 0x28216c0f0>, name:iPhone, manufacturer:Apple Inc., model:iPhone, hardware:iPhone13,4, software:14.4>'\n",
      " '<<HKDevice: 0x28216d4a0>, name:iPhone, manufacturer:Apple Inc., model:iPhone, hardware:iPhone13,4, software:14.4>']\n"
     ]
    }
   ],
   "source": []
  },
  {
   "cell_type": "code",
   "execution_count": null,
   "outputs": [],
   "source": [],
   "metadata": {
    "collapsed": false,
    "pycharm": {
     "name": "#%%\n"
    }
   }
  }
 ],
 "metadata": {
  "kernelspec": {
   "display_name": "Python 3",
   "language": "python",
   "name": "python3"
  },
  "language_info": {
   "codemirror_mode": {
    "name": "ipython",
    "version": 3
   },
   "file_extension": ".py",
   "mimetype": "text/x-python",
   "name": "python",
   "nbconvert_exporter": "python",
   "pygments_lexer": "ipython3",
   "version": "3.6.8"
  }
 },
 "nbformat": 4,
 "nbformat_minor": 1
}