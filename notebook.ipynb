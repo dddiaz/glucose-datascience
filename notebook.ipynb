{
 "cells": [
  {
   "cell_type": "markdown",
   "metadata": {
    "pycharm": {
     "name": "#%% md\n"
    }
   },
   "source": [
    "# Glucose Data Science\n",
    "---\n",
    "Goal: The goal of this experiment is to see if it is possible to predict which days I have exercised based on the days\n",
    "blood glucose readings.\n",
    "Stretch Goal: Predict the type of excercise.\n",
    "\n",
    "### Technology:\n",
    "- Apple HealthKit\n",
    "- Dexcom Continuous Glucose Monitor\n",
    "- Datascience\n",
    "- Apple Watch Workouts\n",
    "\n",
    "### High Level Objectives:\n",
    "- Gather Data\n",
    "- Inspect Data\n",
    "- Data Wrangle\n",
    "- Machine Learning with Data\n",
    "\n",
    "### Background Information:\n",
    " I have __Type 1 Diabetes__ which is an auto-immune disease that causes my body to attack the insulin\n",
    " producing cells in my pancreas. Insulin is what helps your body use the energy (glucose) in the food you eat. To manage\n",
    " this disease I use some extremely cool pieces of technology. One is a continuous glucose monitor called a __Dexcom__\n",
    " CGM. I wear this cgm on my body, and it measures the amount of glucose in my interstitial fluid ( also known as the\n",
    " fluid between cells) every 5 minutes. That data is then sent to my phone ( even allowing me to view my real time\n",
    " glucose on my Apple Watch! ) as well as my insulin pump. This data, as well as other information is used to help manage\n",
    " my Diabetes.\n",
    "\n",
    " It has been my personal experience, that when I exercise, I tend to have higher insulin sensitivity, usually meaning\n",
    " better blood glucose numbers throughout the day. Your blood glucose is what your body automatically regulates on its\n",
    " own with insulin, but must be done manually as a type 1 diabetic.\n",
    "\n",
    " The goal of this exercise is to see if I can pull that correlation out with data, and possibly see if I can use a\n",
    " Machine Learning Model to predict which days I exercised, based only off my glucose data."
   ]
  },
  {
   "cell_type": "markdown",
   "metadata": {},
   "source": [
    "# Gather Data\n",
    "---\n",
    "The source of the exercise data will be Apple HealthKit. Apple HealthKit automatically has my exercise data in it from when I\n",
    "track workouts on my Apple Watch. It also can be configured to sync with the Dexcom iOS app. So now lets see if we can download and load\n",
    "that data.\n",
    "\n",
    "## Export data from phone:\n",
    "- Navigate to health app\n",
    "- click on your profile icon\n",
    "- scroll to bottom and click export all health data\n",
    "- this may take a few minutes\n",
    "- download zip\n",
    "- expand zip\n",
    "- this data is pretty sensitive, so don't commit it to git!\n"
   ]
  },
  {
   "cell_type": "code",
   "execution_count": 27,
   "metadata": {},
   "outputs": [
    {
     "name": "stdout",
     "output_type": "stream",
     "text": [
      "The version of python is:  3.6.8 (v3.6.8:3c6b436a57, Dec 24 2018, 02:04:31) \n",
      "[GCC 4.2.1 Compatible Apple LLVM 6.0 (clang-600.0.57)]\n"
     ]
    }
   ],
   "source": [
    "import sys\n",
    "from os import path\n",
    "print(\"The version of python is: \", sys.version)"
   ]
  },
  {
   "cell_type": "markdown",
   "metadata": {
    "pycharm": {
     "name": "#%% md\n"
    }
   },
   "source": [
    "## Let's import this data into pandas\n",
    "Note, we are also going to write the data we need to a csv cache to make it easier to work with. The reason being, theres\n",
    "over 1GB of data!"
   ]
  },
  {
   "cell_type": "code",
   "execution_count": 28,
   "metadata": {
    "pycharm": {
     "name": "#%%\n"
    }
   },
   "outputs": [],
   "source": [
    "import pandas as pd\n",
    "input_path = './apple_health_export/export.xml'\n",
    "\n",
    "# Don't do this conversion if we already created the csv cache\n",
    "if not path.isfile('./csv_cache/glucose.csv'):\n",
    "    import xmltodict\n",
    "    with open(input_path, 'r') as xml_file:\n",
    "        input_data = xmltodict.parse(xml_file.read())\n",
    "    # available health records\n",
    "    # thanks to this article for explaining:\n",
    "    #   https://medium.com/better-programming/analyze-your-icloud-health-data-with-pandas-dd5e963e902f\n",
    "    records_list = input_data['HealthData']['Record']\n",
    "    workout_list = input_data['HealthData']['Workout']\n",
    "    activity_list = input_data['HealthData']['ActivitySummary']\n",
    "    # available odict_keys(['@locale', 'ExportDate', 'Me', 'Record', 'Workout', 'ActivitySummary'])\n",
    "\n",
    "    df = pd.DataFrame(records_list)\n",
    "    df.to_csv('./csv_cache/records.csv',header=True, index=False)\n",
    "\n",
    "    df1 = pd.DataFrame(workout_list)\n",
    "    df1.to_csv('./csv_cache/workout.csv',header=True, index=False)\n",
    "\n",
    "    df2 = pd.DataFrame(activity_list)\n",
    "    df2.to_csv('./csv_cache/activity.csv',header=True, index=False)\n",
    "\n",
    "    # Data Wrangling cause this dataset is huuuuuuuge\n",
    "    df3 = pd.DataFrame(records_list)\n",
    "    # I only care about glucose values\n",
    "    df3 = df3[df3[\"@type\"] == 'HKQuantityTypeIdentifierBloodGlucose']\n",
    "    # we only need the the below columns\n",
    "    df3 = df3[['@sourceName', '@creationDate', '@value']]\n",
    "    # This cuts the file from over a gig to 18 megs\n",
    "    df3.to_csv('./csv_cache/glucose.csv',header=True, index=False)\n",
    "\n",
    "    df = df3\n",
    "\n",
    "else:\n",
    "    glucose_df = pd.read_csv('./csv_cache/glucose.csv')\n",
    "    workout_df = pd.read_csv('./csv_cache/workout.csv')"
   ]
  },
  {
   "cell_type": "code",
   "execution_count": 29,
   "metadata": {
    "pycharm": {
     "name": "#%%\n"
    }
   },
   "outputs": [
    {
     "data": {
      "text/plain": "Index(['@sourceName', '@creationDate', '@value'], dtype='object')"
     },
     "execution_count": 29,
     "metadata": {},
     "output_type": "execute_result"
    }
   ],
   "source": [
    "glucose_df.columns"
   ]
  },
  {
   "cell_type": "code",
   "execution_count": 30,
   "outputs": [
    {
     "data": {
      "text/plain": "  @sourceName              @creationDate  @value\n0      Health  2014-10-15 23:09:19 -0800     167\n1      Dexcom  2015-07-18 03:46:02 -0800     265\n2      Dexcom  2015-07-18 03:51:02 -0800     246\n3      Dexcom  2015-07-18 03:56:02 -0800     246\n4      Dexcom  2015-07-18 04:01:02 -0800     233",
      "text/html": "<div>\n<style scoped>\n    .dataframe tbody tr th:only-of-type {\n        vertical-align: middle;\n    }\n\n    .dataframe tbody tr th {\n        vertical-align: top;\n    }\n\n    .dataframe thead th {\n        text-align: right;\n    }\n</style>\n<table border=\"1\" class=\"dataframe\">\n  <thead>\n    <tr style=\"text-align: right;\">\n      <th></th>\n      <th>@sourceName</th>\n      <th>@creationDate</th>\n      <th>@value</th>\n    </tr>\n  </thead>\n  <tbody>\n    <tr>\n      <th>0</th>\n      <td>Health</td>\n      <td>2014-10-15 23:09:19 -0800</td>\n      <td>167</td>\n    </tr>\n    <tr>\n      <th>1</th>\n      <td>Dexcom</td>\n      <td>2015-07-18 03:46:02 -0800</td>\n      <td>265</td>\n    </tr>\n    <tr>\n      <th>2</th>\n      <td>Dexcom</td>\n      <td>2015-07-18 03:51:02 -0800</td>\n      <td>246</td>\n    </tr>\n    <tr>\n      <th>3</th>\n      <td>Dexcom</td>\n      <td>2015-07-18 03:56:02 -0800</td>\n      <td>246</td>\n    </tr>\n    <tr>\n      <th>4</th>\n      <td>Dexcom</td>\n      <td>2015-07-18 04:01:02 -0800</td>\n      <td>233</td>\n    </tr>\n  </tbody>\n</table>\n</div>"
     },
     "execution_count": 30,
     "metadata": {},
     "output_type": "execute_result"
    }
   ],
   "source": [
    "glucose_df.head()"
   ],
   "metadata": {
    "collapsed": false,
    "pycharm": {
     "name": "#%%\n"
    }
   }
  },
  {
   "cell_type": "markdown",
   "source": [
    "## Healthkit Column Reference\n",
    "These are the columns associated with the data we just pulled from HealthKit:\n",
    "\n",
    "```python\n",
    "# records\n",
    "Index(['@type', '@sourceName', '@unit', '@creationDate', '@startDate',\n",
    "       '@endDate', '@value', 'MetadataEntry', '@sourceVersion', '@device',\n",
    "       'HeartRateVariabilityMetadataList'],\n",
    "      dtype='object')\n",
    "# workout\n",
    "Index(['@workoutActivityType', '@duration', '@durationUnit', '@totalDistance',\n",
    "       '@totalDistanceUnit', '@totalEnergyBurned', '@totalEnergyBurnedUnit',\n",
    "       '@sourceName', '@sourceVersion', '@creationDate', '@startDate',\n",
    "       '@endDate', 'MetadataEntry', 'WorkoutEvent', 'WorkoutRoute', '@device'],\n",
    "      dtype='object')\n",
    "# activity\n",
    "Index(['@dateComponents', '@activeEnergyBurned', '@activeEnergyBurnedGoal',\n",
    "       '@activeEnergyBurnedUnit', '@appleMoveTime', '@appleMoveTimeGoal',\n",
    "       '@appleExerciseTime', '@appleExerciseTimeGoal', '@appleStandHours',\n",
    "       '@appleStandHoursGoal'],\n",
    "      dtype='object')\n",
    "```"
   ],
   "metadata": {
    "collapsed": false,
    "pycharm": {
     "name": "#%% md\n"
    }
   }
  },
  {
   "cell_type": "code",
   "execution_count": 31,
   "metadata": {
    "pycharm": {
     "name": "#%%\n"
    }
   },
   "outputs": [
    {
     "data": {
      "text/plain": "array(['Health', 'Dexcom', 'Dexcom G6'], dtype=object)"
     },
     "execution_count": 31,
     "metadata": {},
     "output_type": "execute_result"
    }
   ],
   "source": [
    "# Show All data types\n",
    "glucose_df['@sourceName'].unique()\n",
    "\n",
    "# show all source types\n",
    "# df['@device'].unique()\n",
    "\n",
    "# (Optional) Limit Data to phone\n",
    "# df = df[df['@sourceName'].str.contains('iPhone')]"
   ]
  },
  {
   "cell_type": "markdown",
   "metadata": {
    "pycharm": {
     "name": "#%% md\n"
    }
   },
   "source": [
    "Keep in mind, workouts are stored in a different dataset that the main activity dataset.\n",
    "I handle this in the above code by outputting them to seperate CSVs.\n",
    "\n",
    "Also note if you want to see all data available in healthkit, take a peak at the apple docs.\n",
    "[Apple Docs](https://developer.apple.com/documentation/healthkit/hkobjecttype)"
   ]
  },
  {
   "cell_type": "code",
   "execution_count": 32,
   "outputs": [],
   "source": [
    "# 474135 - 474305\n",
    "last_day_bg = glucose_df[-200:]\n"
   ],
   "metadata": {
    "collapsed": false,
    "pycharm": {
     "name": "#%%\n"
    }
   }
  },
  {
   "cell_type": "code",
   "execution_count": 33,
   "outputs": [
    {
     "data": {
      "text/plain": "<AxesSubplot:>"
     },
     "execution_count": 33,
     "metadata": {},
     "output_type": "execute_result"
    },
    {
     "data": {
      "text/plain": "<Figure size 1440x360 with 1 Axes>",
      "image/png": "[encoded data removed]"
     },
     "metadata": {
      "needs_background": "light"
     },
     "output_type": "display_data"
    }
   ],
   "source": [
    "import matplotlib.pyplot as plt\n",
    "last_day_bg.plot(kind='line',y='@value',color='red', figsize=(20,5))"
   ],
   "metadata": {
    "collapsed": false,
    "pycharm": {
     "name": "#%%\n"
    }
   }
  },
  {
   "cell_type": "markdown",
   "source": [
    "Ok the range is looking right, and the graph is continuous which is a good sign."
   ],
   "metadata": {
    "collapsed": false,
    "pycharm": {
     "name": "#%% md\n"
    }
   }
  },
  {
   "cell_type": "markdown",
   "source": [
    "# Data Wrangling\n",
    "\n",
    "OK time for some more data wrangling. The goal is to feed a days worth of glucose values into a Neural Network,\n",
    "and have the target be a binary 0,1 representing if I exercised that day or not.\n",
    "\n",
    "![High Level Arch Diagram](https://dddiaz.com/post/glucose-sound/arch1.png)\n",
    "\n",
    "\n",
    "To do that, I need to setup the input layer and output layer.\n",
    "The input layer will be an array of arrays, with each day representing one array, and each array\n",
    "representing a days worth of bucketed glucose values. (I will need to do some work to account for gaps)\n",
    "The out array will just be an array of zeros and ones, with each value representing a day, and if I exercised on that day.\n"
   ],
   "metadata": {
    "collapsed": false,
    "pycharm": {
     "name": "#%% md\n"
    }
   }
  },
  {
   "cell_type": "code",
   "execution_count": 34,
   "outputs": [],
   "source": [
    "import numpy as np\n",
    "\n",
    "# OK lets work with glucose values first\n",
    "# First, how many values do we expect in one day, this will be the default array, assuming there is a reading every 5 mins.\n",
    "\n",
    "default_number_of_readings_in_a_day = (24 * 60) / 5\n",
    "# default_array = np.zeros(default_number_of_readings_in_a_day)"
   ],
   "metadata": {
    "collapsed": false,
    "pycharm": {
     "name": "#%%\n"
    }
   }
  },
  {
   "cell_type": "code",
   "execution_count": 35,
   "outputs": [],
   "source": [
    "# lets convert datetime strings to actual datetime objects\n",
    "glucose_df['@creationDate'] = pd.to_datetime(glucose_df['@creationDate'], format='%Y-%m-%d %H:%M:%S %z')\n"
   ],
   "metadata": {
    "collapsed": false,
    "pycharm": {
     "name": "#%%\n"
    }
   }
  },
  {
   "cell_type": "code",
   "execution_count": 36,
   "outputs": [
    {
     "name": "stdout",
     "output_type": "stream",
     "text": [
      "First day with data: 2014-10-15 23:09:19-08:00, Last day with data: 2021-01-31 14:10:46-08:00\n"
     ]
    }
   ],
   "source": [
    "# next we need the first day we haev reading and the last day\n",
    "last_glucose_date = glucose_df['@creationDate'].iloc[-1]\n",
    "first_glucose_date = glucose_df['@creationDate'].iloc[0]\n",
    "print(f\"First day with data: {first_glucose_date}, Last day with data: {last_glucose_date}\")"
   ],
   "metadata": {
    "collapsed": false,
    "pycharm": {
     "name": "#%%\n"
    }
   }
  },
  {
   "cell_type": "code",
   "execution_count": 37,
   "outputs": [
    {
     "name": "stdout",
     "output_type": "stream",
     "text": [
      "2299\n"
     ]
    }
   ],
   "source": [
    "from datetime import date\n",
    "\n",
    "num_of_days = (last_glucose_date - first_glucose_date).days\n",
    "\n",
    "print(num_of_days)"
   ],
   "metadata": {
    "collapsed": false,
    "pycharm": {
     "name": "#%%\n"
    }
   }
  },
  {
   "cell_type": "code",
   "execution_count": 48,
   "outputs": [],
   "source": [
    "# Ok now we want to iterate every day and start creating arrays of len 288\n",
    "# Im sure there might be a way to do this with pandas timeseries, but im not quite sure how, for now i will loop, and bring shame upon myself ;p\n",
    "\n",
    "import datetime\n",
    "import numpy as np\n",
    "\n",
    "# helper func\n",
    "def padarray(arr):\n",
    "    t = 288 - len(arr)\n",
    "    if t > 0:\n",
    "        return np.pad(arr, pad_width=(0, t), mode='constant')\n",
    "    else:\n",
    "        # TODO: uhoh we may need to resample in this case???\n",
    "        return arr[:288]\n",
    "\n",
    "\n",
    "# test helper func\n",
    "def test_pdarray(x=[1,2,3]):\n",
    "    res = padarray(x)\n",
    "    assert len(res) == 288\n",
    "    #print(res)\n",
    "# test_pdarray()"
   ],
   "metadata": {
    "collapsed": false,
    "pycharm": {
     "name": "#%%\n"
    }
   }
  },
  {
   "cell_type": "code",
   "execution_count": 50,
   "outputs": [],
   "source": [
    "# array of arrays of days of glucose values\n",
    "glucose_X = []\n",
    "# lets also keep track of days we got data for\n",
    "glucose_X_days = []\n",
    "day_to_search = first_glucose_date\n",
    "for x in range(num_of_days):\n",
    "    # Num of days is an upper bound, there could be multi day gaps with no glucose data, so we should check the next day exists in the data set\n",
    "    # note we must use dt.dat here cause its a series\n",
    "    day_data = glucose_df[(glucose_df['@creationDate'].dt.day == day_to_search.day) &\n",
    "                          (glucose_df['@creationDate'].dt.month == day_to_search.month) &\n",
    "                          (glucose_df['@creationDate'].dt.year == day_to_search.year)]\n",
    "    # 2 represents the index where the glucose values exist\n",
    "    day_data_glucose_array = day_data[['@value']].values\n",
    "\n",
    "    if day_data_glucose_array.size == 0:\n",
    "        # no values for this day\n",
    "        # print(f\"No values found for {day_to_search}\")\n",
    "        day_to_search += datetime.timedelta(days=1)\n",
    "        continue\n",
    "\n",
    "    day_data_glucose_array = np.concatenate( day_data_glucose_array, axis=0 )\n",
    "\n",
    "    glucose_X_days.append(day_to_search)\n",
    "    new_arr = padarray(day_data_glucose_array.flatten())\n",
    "    glucose_X.append(new_arr)\n",
    "    day_to_search += datetime.timedelta(days=1)\n",
    "\n",
    "    # # Uncomment to test data\n",
    "    # if len(glucose_X) > 5:\n",
    "    #     break\n",
    "\n"
   ],
   "metadata": {
    "collapsed": false,
    "pycharm": {
     "name": "#%%\n"
    }
   }
  },
  {
   "cell_type": "code",
   "execution_count": 51,
   "outputs": [],
   "source": [
    "# spot check a random day\n",
    "# print(f\"On day {glucose_X_days[2]} , these were my glucose values...\")\n",
    "# plt.plot(glucose_X[2])"
   ],
   "metadata": {
    "collapsed": false,
    "pycharm": {
     "name": "#%%\n"
    }
   }
  },
  {
   "cell_type": "code",
   "execution_count": 52,
   "outputs": [
    {
     "data": {
      "text/plain": "array(['HKWorkoutActivityTypeOther', 'HKWorkoutActivityTypeWalking',\n       'HKWorkoutActivityTypeRunning', 'HKWorkoutActivityTypeCycling',\n       'HKWorkoutActivityTypeHiking',\n       'HKWorkoutActivityTypeStairClimbing',\n       'HKWorkoutActivityTypeTraditionalStrengthTraining',\n       'HKWorkoutActivityTypeSwimming', 'HKWorkoutActivityTypeYoga',\n       'HKWorkoutActivityTypeSnowSports',\n       'HKWorkoutActivityTypeFunctionalStrengthTraining',\n       'HKWorkoutActivityTypeHighIntensityIntervalTraining',\n       'HKWorkoutActivityTypeCooldown',\n       'HKWorkoutActivityTypeCoreTraining'], dtype=object)"
     },
     "execution_count": 52,
     "metadata": {},
     "output_type": "execute_result"
    }
   ],
   "source": [
    "# show all types of workouts we have done\n",
    "workout_df['@workoutActivityType'].unique()"
   ],
   "metadata": {
    "collapsed": false,
    "pycharm": {
     "name": "#%%\n"
    }
   }
  },
  {
   "cell_type": "code",
   "execution_count": 53,
   "outputs": [],
   "source": [
    "workout_df['@startDate'] = pd.to_datetime(workout_df['@startDate'], format='%Y-%m-%d %H:%M:%S %z')"
   ],
   "metadata": {
    "collapsed": false,
    "pycharm": {
     "name": "#%%\n"
    }
   }
  },
  {
   "cell_type": "code",
   "execution_count": 54,
   "outputs": [],
   "source": [
    "# For each day we have glucose values, lets lookup and see if I exercised\n",
    "workout_Y_days = []\n",
    "for g_day in glucose_X_days:\n",
    "    # Get all workouts on the day we are looking for\n",
    "    workout_day_data = workout_df[(workout_df['@startDate'].dt.day == g_day.day) &\n",
    "                                  (workout_df['@startDate'].dt.month == g_day.month) &\n",
    "                                  (workout_df['@startDate'].dt.year == g_day.year)]\n",
    "    # If a workout exists on this day, append a 1, else append a zero\n",
    "    if len(workout_day_data) > 0:\n",
    "        workout_Y_days.append(1)\n",
    "        # print(f\"Found workout on {g_day}\")\n",
    "    else:\n",
    "        workout_Y_days.append(0)\n"
   ],
   "metadata": {
    "collapsed": false,
    "pycharm": {
     "name": "#%%\n"
    }
   }
  },
  {
   "cell_type": "code",
   "execution_count": 55,
   "outputs": [
    {
     "name": "stdout",
     "output_type": "stream",
     "text": [
      "I have tracked at least 379 workouts on days I have glucose data.\n"
     ]
    }
   ],
   "source": [
    "print(f\"I have tracked at least {workout_Y_days.count(1)} workouts on days I have glucose data.\")"
   ],
   "metadata": {
    "collapsed": false,
    "pycharm": {
     "name": "#%%\n"
    }
   }
  },
  {
   "cell_type": "markdown",
   "source": [
    "### OK Checkpoint\n",
    "\n",
    "I have my input array consisting of days of glucose values\n",
    "I also have my output array of workouts for days on which i have glucose data.\n",
    "Now for the machine learning part."
   ],
   "metadata": {
    "collapsed": false,
    "pycharm": {
     "name": "#%% md\n"
    }
   }
  },
  {
   "cell_type": "markdown",
   "source": [
    "# Machine Learning With Glucose Data\n"
   ],
   "metadata": {
    "collapsed": false,
    "pycharm": {
     "name": "#%% md\n"
    }
   }
  },
  {
   "cell_type": "code",
   "execution_count": 56,
   "outputs": [],
   "source": [
    "import tensorflow as tf"
   ],
   "metadata": {
    "collapsed": false,
    "pycharm": {
     "name": "#%%\n"
    }
   }
  },
  {
   "cell_type": "code",
   "execution_count": 57,
   "outputs": [],
   "source": [
    "# Set up train and test set\n",
    "# training will be 80 percent of the values , and test will be 20\n",
    "# chosen at random\n",
    "\n",
    "day_len = len(glucose_X_days)\n",
    "\n",
    "import random\n",
    "import math\n",
    "train_percent = .75\n",
    "\n",
    "X_train_indexes = random.sample(range(day_len), math.floor(day_len * train_percent))\n",
    "X_test_indexes = list(set(range(day_len)) - set(X_train_indexes))\n",
    "Y_train_indexes = X_train_indexes\n",
    "Y_test_indexes = X_test_indexes"
   ],
   "metadata": {
    "collapsed": false,
    "pycharm": {
     "name": "#%%\n"
    }
   }
  },
  {
   "cell_type": "code",
   "execution_count": 58,
   "outputs": [],
   "source": [
    "X_train = []\n",
    "X_test = []\n",
    "Y_train = []\n",
    "Y_test = []\n"
   ],
   "metadata": {
    "collapsed": false,
    "pycharm": {
     "name": "#%%\n"
    }
   }
  },
  {
   "cell_type": "code",
   "execution_count": 59,
   "outputs": [],
   "source": [
    "for idx in X_train_indexes:\n",
    "    X_train.append(glucose_X[idx])\n",
    "\n",
    "for idx in X_test_indexes:\n",
    "    X_test.append(glucose_X[idx])\n",
    "\n",
    "for idx in Y_train_indexes:\n",
    "    Y_train.append(workout_Y_days[idx])\n",
    "\n",
    "for idx in Y_test_indexes:\n",
    "    Y_test.append(workout_Y_days[idx])"
   ],
   "metadata": {
    "collapsed": false,
    "pycharm": {
     "name": "#%%\n"
    }
   }
  },
  {
   "cell_type": "code",
   "execution_count": 60,
   "outputs": [],
   "source": [
    "import tensorflow as tf\n",
    "from tensorflow.keras.models import Sequential\n",
    "from tensorflow.keras.layers import Dense\n"
   ],
   "metadata": {
    "collapsed": false,
    "pycharm": {
     "name": "#%%\n"
    }
   }
  },
  {
   "cell_type": "markdown",
   "source": [
    "What I will attempt to do here is treat a days worth of glucose values as an image almost.\n",
    "Lets see what happens"
   ],
   "metadata": {
    "collapsed": false,
    "pycharm": {
     "name": "#%% md\n"
    }
   }
  },
  {
   "cell_type": "code",
   "execution_count": 62,
   "outputs": [
    {
     "name": "stdout",
     "output_type": "stream",
     "text": [
      "Model: \"sequential_3\"\n",
      "_________________________________________________________________\n",
      "Layer (type)                 Output Shape              Param #   \n",
      "=================================================================\n",
      "dense_9 (Dense)              (None, 12)                3468      \n",
      "_________________________________________________________________\n",
      "dense_10 (Dense)             (None, 8)                 104       \n",
      "_________________________________________________________________\n",
      "dense_11 (Dense)             (None, 1)                 9         \n",
      "=================================================================\n",
      "Total params: 3,581\n",
      "Trainable params: 3,581\n",
      "Non-trainable params: 0\n",
      "_________________________________________________________________\n"
     ]
    }
   ],
   "source": [
    "model = Sequential()\n",
    "# make sure input dim matches the number of glucose values\n",
    "# https://machinelearningmastery.com/tutorial-first-neural-network-python-keras/\n",
    "model.add(Dense(12, input_dim=288, activation='relu'))\n",
    "model.add(Dense(8, activation='relu'))\n",
    "model.add(Dense(1, activation='sigmoid'))\n",
    "\n",
    "model.summary()"
   ],
   "metadata": {
    "collapsed": false,
    "pycharm": {
     "name": "#%%\n"
    }
   }
  },
  {
   "cell_type": "code",
   "execution_count": 63,
   "outputs": [],
   "source": [
    "model.compile(loss='binary_crossentropy', optimizer='adam', metrics=['accuracy'])"
   ],
   "metadata": {
    "collapsed": false,
    "pycharm": {
     "name": "#%%\n"
    }
   }
  },
  {
   "cell_type": "code",
   "execution_count": 66,
   "outputs": [],
   "source": [
    "# Convert the arrays to np arrays\n",
    "X_train_np = np.array(X_train)\n",
    "Y_train_np = np.array(Y_train)\n",
    "\n",
    "X_test_np = np.array(X_test)\n",
    "Y_test_np = np.array(Y_test)"
   ],
   "metadata": {
    "collapsed": false,
    "pycharm": {
     "name": "#%%\n"
    }
   }
  },
  {
   "cell_type": "code",
   "execution_count": 69,
   "outputs": [
    {
     "data": {
      "text/plain": "<tensorflow.python.keras.callbacks.History at 0x7f95fd838be0>"
     },
     "execution_count": 69,
     "metadata": {},
     "output_type": "execute_result"
    }
   ],
   "source": [
    "model.fit(X_train_np, Y_train_np, epochs=150, batch_size=10, verbose=0)"
   ],
   "metadata": {
    "collapsed": false,
    "pycharm": {
     "name": "#%%\n"
    }
   }
  },
  {
   "cell_type": "code",
   "execution_count": 70,
   "outputs": [
    {
     "name": "stdout",
     "output_type": "stream",
     "text": [
      "14/14 [==============================] - 0s 749us/step - loss: 0.4986 - accuracy: 0.7926\b\b\b\b\b\b\b\b\b\b\b\b\b\b\b\b\b\b\b\b\b\b\b\b\b\b\b\b\b\b\b\b\b\b\b\b\b\b\b\b\b\b\b\b\b\b\b\b\b\b\b\b\b\b\b\b\b\b\b\b\b\b\b\b\b\b\b\b\b\b\b\b\b\b\b\b\n",
      "Accuracy: 79.26\n"
     ]
    }
   ],
   "source": [
    "# evaluate the keras model\n",
    "_, accuracy = model.evaluate(X_test_np, Y_test_np)\n",
    "print('Accuracy: %.2f' % (accuracy*100))"
   ],
   "metadata": {
    "collapsed": false,
    "pycharm": {
     "name": "#%%\n"
    }
   }
  },
  {
   "cell_type": "markdown",
   "source": [
    "# Results\n",
    "Whoa! __79 Percent Accuracy__ based off my dataset!\n",
    "\n",
    "In summary, that means the above Nueral Network can predict with 79 percent accuracy if I worked out on a particular day\n",
    "based on that days glucose readings.\n",
    "\n",
    "My initial response is that this a surprisingly high number! Going forward I want to examine techniques to ensure that\n",
    "the model isn't over fitting for features I don't intend, but for a first pass, this seems like a great start. I also\n",
    "want to explore techniques for improving my model as it is pretty rudimentary and how might I possibly predict workout type!\n"
   ],
   "metadata": {
    "collapsed": false,
    "pycharm": {
     "name": "#%% md\n"
    }
   }
  },
  {
   "cell_type": "markdown",
   "source": [
    "# Things to Consider/Improve for the future\n",
    "\n",
    "- Sometimes vigourous excercise can effect glucose for several days, can we see that in the data\n",
    "- Can we predict the Type of excercise in the future\n",
    "- Should we be filtering on device, or any days in particular that have junk data\n",
    "- Instead of workout_Y_array being binary, it could be a specific workout type, or the total number of workouts that day\n",
    "- oh man, we could also potentially use total calories burned\n",
    "- I also have general apple activity ring data, could be interesting to examine if my bg was better on days with closed\n",
    "rings, or maybe days where i burned more than x calories"
   ],
   "metadata": {
    "collapsed": false,
    "pycharm": {
     "name": "#%% md\n"
    }
   }
  },
  {
   "cell_type": "markdown",
   "source": [
    "## TODO:\n",
    "- replace data wrangling picture with one that is stored with the blog post and not in glucose-sound\n",
    "- account for data gaps\n",
    "- fine tune the model\n",
    "- More Data."
   ],
   "metadata": {
    "collapsed": false,
    "pycharm": {
     "name": "#%% md\n"
    }
   }
  },
  {
   "cell_type": "markdown",
   "source": [
    "## Issues:\n",
    "- I only have 531 days of workouts\n"
   ],
   "metadata": {
    "collapsed": false,
    "pycharm": {
     "name": "#%% md\n"
    }
   }
  },
  {
   "cell_type": "markdown",
   "source": [
    "## Learnings:\n",
    "- Data wrangling is important / hard\n",
    "- Domain knowledge is critical to being able to gut check the data is looking right and behaving correctly\n",
    "\n"
   ],
   "metadata": {
    "collapsed": false,
    "pycharm": {
     "name": "#%% md\n"
    }
   }
  }
 ],
 "metadata": {
  "kernelspec": {
   "display_name": "Python 3",
   "language": "python",
   "name": "python3"
  },
  "language_info": {
   "codemirror_mode": {
    "name": "ipython",
    "version": 3
   },
   "file_extension": ".py",
   "mimetype": "text/x-python",
   "name": "python",
   "nbconvert_exporter": "python",
   "pygments_lexer": "ipython3",
   "version": "3.6.8"
  }
 },
 "nbformat": 4,
 "nbformat_minor": 1
}