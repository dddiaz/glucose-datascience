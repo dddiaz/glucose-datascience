{
 "cells": [
  {
   "cell_type": "markdown",
   "source": [
    "# Glucose Data Science\n",
    "---\n",
    "Goal: The goal of this experiment is to see if it is possible to predict which days I have exercised based on the days\n",
    "blood glucose readings.\n",
    "Stretch Goal: Predict the type of excercise.\n",
    "\n",
    "### Technology:\n",
    "- Apple HealthKit\n",
    "- Dexcom Continuous Glucose Monitor\n",
    "- Datascience\n",
    "\n",
    "### High Level Objectives:\n",
    "- Gather Data\n",
    "- Clean Up Data\n",
    "- Inspect Data\n",
    "- ML with Data\n",
    "\n",
    "### Background Information:\n",
    " I have __Type 1 Diabetes__ which is an auto-immune disease that causes my body to attack the insulin\n",
    " producing cells in my pancreas. Insulin is what helps your body use the energy (glucose) in the food you eat. To manage\n",
    " this disease I use some extremely cool pieces of technology. One is a continuous glucose monitor called a __Dexcom__\n",
    " CGM. I wear this cgm on my body, and it measures the amount of glucose in my interstitial fluid ( also known as the\n",
    " fluid between cells) every 5 minutes. That data is then sent to my phone ( even allowing me to view my real time\n",
    " glucose on my Apple Watch! ) as well as my insulin pump. This data, as well as other information is used to help manage\n",
    " my Diabetes.\n",
    "\n",
    " It has been my personal experience, that when I exercise, I tend to have higher insulin sensitivity, usually meaning\n",
    " better blood glucose numbers throughout the day. Your blood glucose is what your body automatically regulates on its\n",
    " own with insulin, but must be done manually as a type 1 diabetic.\n",
    "\n",
    " The goal of this exercise is to see if I can pull that correlation out with data, and possibly see if I can use a\n",
    " Machine Learning Model to predict which days I exercised, based only off my glucose data."
   ],
   "metadata": {
    "collapsed": false,
    "pycharm": {
     "name": "#%% md\n"
    }
   }
  },
  {
   "cell_type": "markdown",
   "source": [
    "# Gather Data\n",
    "---\n",
    "The source of the excercise data will be apple healthkit. Apple Healthkit automatically has my excercise data in it from when I\n",
    "track workouts. It also can be configured to sync with the Dexcom iOS app. So now lets see if we can download and load\n",
    "that data.\n",
    "\n",
    "## Export data from phone:\n",
    "- Navigate to health app\n",
    "- click on your profile icon\n",
    "- scroll to bottom and click export all health data\n",
    "- this may take a few minutes\n",
    "- donwload zip\n",
    "- expand zip\n",
    "- this data is pretty sensitive, so don't commit it to git!\n"
   ],
   "metadata": {
    "collapsed": false
   }
  },
  {
   "cell_type": "code",
   "execution_count": 1,
   "metadata": {
    "collapsed": true
   },
   "outputs": [
    {
     "name": "stdout",
     "output_type": "stream",
     "text": [
      "The version of python is:  3.6.8 (v3.6.8:3c6b436a57, Dec 24 2018, 02:04:31) \n",
      "[GCC 4.2.1 Compatible Apple LLVM 6.0 (clang-600.0.57)]\n"
     ]
    }
   ],
   "source": [
    "import sys\n",
    "print(\"The version of python is: \", sys.version)"
   ]
  },
  {
   "cell_type": "markdown",
   "source": [
    "# Let's import this data into pandas"
   ],
   "metadata": {
    "collapsed": false,
    "pycharm": {
     "name": "#%% md\n"
    }
   }
  },
  {
   "cell_type": "code",
   "execution_count": 2,
   "outputs": [],
   "source": [
    "import pandas as pd\n",
    "import xmltodict\n",
    "input_path = './apple_health_export/export.xml'\n",
    "with open(input_path, 'r') as xml_file:\n",
    "    input_data = xmltodict.parse(xml_file.read())\n",
    "\n",
    "# available health records\n",
    "# thanks to this article for explaining:\n",
    "#   https://medium.com/better-programming/analyze-your-icloud-health-data-with-pandas-dd5e963e902f\n",
    "records_list = input_data['HealthData']['Record']"
   ],
   "metadata": {
    "collapsed": false,
    "pycharm": {
     "name": "#%%\n"
    }
   }
  },
  {
   "cell_type": "code",
   "execution_count": 3,
   "outputs": [],
   "source": [
    "df = pd.DataFrame(records_list)"
   ],
   "metadata": {
    "collapsed": false,
    "pycharm": {
     "name": "#%%\n"
    }
   }
  },
  {
   "cell_type": "code",
   "execution_count": 4,
   "outputs": [
    {
     "data": {
      "text/plain": "Index(['@type', '@sourceName', '@unit', '@creationDate', '@startDate',\n       '@endDate', '@value', 'MetadataEntry', '@sourceVersion', '@device',\n       'HeartRateVariabilityMetadataList'],\n      dtype='object')"
     },
     "execution_count": 4,
     "metadata": {},
     "output_type": "execute_result"
    }
   ],
   "source": [
    "df.columns"
   ],
   "metadata": {
    "collapsed": false,
    "pycharm": {
     "name": "#%%\n"
    }
   }
  },
  {
   "cell_type": "code",
   "execution_count": 5,
   "outputs": [
    {
     "data": {
      "text/plain": "array(['HKQuantityTypeIdentifierBloodGlucose',\n       'HKQuantityTypeIdentifierBodyMassIndex',\n       'HKQuantityTypeIdentifierHeight',\n       'HKQuantityTypeIdentifierBodyMass',\n       'HKQuantityTypeIdentifierHeartRate',\n       'HKQuantityTypeIdentifierBodyFatPercentage',\n       'HKQuantityTypeIdentifierLeanBodyMass',\n       'HKQuantityTypeIdentifierStepCount',\n       'HKQuantityTypeIdentifierDistanceWalkingRunning',\n       'HKQuantityTypeIdentifierBasalEnergyBurned',\n       'HKQuantityTypeIdentifierActiveEnergyBurned',\n       'HKQuantityTypeIdentifierFlightsClimbed',\n       'HKQuantityTypeIdentifierAppleExerciseTime',\n       'HKQuantityTypeIdentifierDistanceCycling',\n       'HKQuantityTypeIdentifierDistanceSwimming',\n       'HKQuantityTypeIdentifierSwimmingStrokeCount',\n       'HKQuantityTypeIdentifierRestingHeartRate',\n       'HKQuantityTypeIdentifierVO2Max',\n       'HKQuantityTypeIdentifierWalkingHeartRateAverage',\n       'HKQuantityTypeIdentifierEnvironmentalAudioExposure',\n       'HKQuantityTypeIdentifierHeadphoneAudioExposure',\n       'HKQuantityTypeIdentifierWalkingDoubleSupportPercentage',\n       'HKQuantityTypeIdentifierSixMinuteWalkTestDistance',\n       'HKQuantityTypeIdentifierAppleStandTime',\n       'HKQuantityTypeIdentifierWalkingSpeed',\n       'HKQuantityTypeIdentifierWalkingStepLength',\n       'HKQuantityTypeIdentifierWalkingAsymmetryPercentage',\n       'HKQuantityTypeIdentifierStairAscentSpeed',\n       'HKQuantityTypeIdentifierStairDescentSpeed',\n       'HKDataTypeSleepDurationGoal',\n       'HKCategoryTypeIdentifierSleepAnalysis',\n       'HKCategoryTypeIdentifierAppleStandHour',\n       'HKCategoryTypeIdentifierMindfulSession',\n       'HKCategoryTypeIdentifierAudioExposureEvent',\n       'HKCategoryTypeIdentifierLowCardioFitnessEvent',\n       'HKCategoryTypeIdentifierHandwashingEvent',\n       'HKQuantityTypeIdentifierHeartRateVariabilitySDNN'], dtype=object)"
     },
     "execution_count": 5,
     "metadata": {},
     "output_type": "execute_result"
    }
   ],
   "source": [
    "# Show All data types\n",
    "df['@type'].unique()"
   ],
   "metadata": {
    "collapsed": false,
    "pycharm": {
     "name": "#%%\n"
    }
   }
  },
  {
   "cell_type": "code",
   "execution_count": 6,
   "outputs": [
    {
     "data": {
      "text/plain": "array([nan,\n       '<<HKDevice: 0x2821663f0>, name:Apple Watch, manufacturer:Apple, model:Watch, hardware:Watch3,2, software:5.0>',\n       '<<HKDevice: 0x282166300>, name:Apple Watch, manufacturer:Apple, model:Watch, hardware:Watch3,2, software:5.0>',\n       ...,\n       '<<HKDevice: 0x28214a800>, name:Apple Watch, manufacturer:Apple Inc., model:Watch, hardware:Watch5,4, software:7.2>',\n       '<<HKDevice: 0x28214a350>, name:Apple Watch, manufacturer:Apple Inc., model:Watch, hardware:Watch5,4, software:7.2>',\n       '<<HKDevice: 0x28214a300>, name:Apple Watch, manufacturer:Apple Inc., model:Watch, hardware:Watch5,4, software:7.3>'],\n      dtype=object)"
     },
     "execution_count": 6,
     "metadata": {},
     "output_type": "execute_result"
    }
   ],
   "source": [
    "# show all source types\n",
    "df['@device'].unique()"
   ],
   "metadata": {
    "collapsed": false,
    "pycharm": {
     "name": "#%%\n"
    }
   }
  },
  {
   "cell_type": "markdown",
   "source": [
    "### Before working with glucose data, lets try a quick exp with step counts similar to the guide above."
   ],
   "metadata": {
    "collapsed": false,
    "pycharm": {
     "name": "#%% md\n"
    }
   }
  },
  {
   "cell_type": "code",
   "execution_count": 9,
   "outputs": [
    {
     "name": "stderr",
     "output_type": "stream",
     "text": [
      "/Users/ddiaz/src/glucose-datascience/venv/lib/python3.6/site-packages/pandas/core/indexing.py:1743: SettingWithCopyWarning: \n",
      "A value is trying to be set on a copy of a slice from a DataFrame.\n",
      "Try using .loc[row_indexer,col_indexer] = value instead\n",
      "\n",
      "See the caveats in the documentation: https://pandas.pydata.org/pandas-docs/stable/user_guide/indexing.html#returning-a-view-versus-a-copy\n",
      "  isetter(ilocs[0], value)\n"
     ]
    }
   ],
   "source": [
    "step_counts = df[df['@type'] == 'HKQuantityTypeIdentifierStepCount']\n",
    "# the medium article includes a bug, dont use the format, use s\n",
    "# format = '%Y-%m-%d %H:%M:%S %z'\n",
    "df['@creationDate'] = pd.to_datetime(df['@creationDate'],\n",
    "                                     format='s')\n",
    "df['@startDate'] = pd.to_datetime(df['@startDate'],\n",
    "                                  format='s')\n",
    "df['@endDate'] = pd.to_datetime(df['@endDate'],\n",
    "                                format='s')\n",
    "step_counts.loc[:, '@value'] = pd.to_numeric(\n",
    "    step_counts.loc[:, '@value'])"
   ],
   "metadata": {
    "collapsed": false,
    "pycharm": {
     "name": "#%%\n"
    }
   }
  },
  {
   "cell_type": "code",
   "execution_count": 12,
   "outputs": [],
   "source": [
    "step_counts_by_creation = step_counts.groupby('@creationDate').sum()\n",
    "by_day = step_counts_by_creation['@value'].resample('D').sum()"
   ],
   "metadata": {
    "collapsed": false,
    "pycharm": {
     "name": "#%%\n"
    }
   }
  },
  {
   "cell_type": "markdown",
   "source": [
    "### Days with most steps"
   ],
   "metadata": {
    "collapsed": false,
    "pycharm": {
     "name": "#%% md\n"
    }
   }
  },
  {
   "cell_type": "code",
   "execution_count": 13,
   "outputs": [
    {
     "data": {
      "text/plain": "@creationDate\n2018-10-03 00:00:00-08:00    60522\n2019-07-05 00:00:00-08:00    53743\n2017-06-04 00:00:00-08:00    52050\n2018-07-20 00:00:00-08:00    52013\n2016-06-02 00:00:00-08:00    47451\n2018-11-29 00:00:00-08:00    46813\n2017-10-17 00:00:00-08:00    46415\n2016-04-17 00:00:00-08:00    44828\n2018-07-19 00:00:00-08:00    44784\n2016-06-03 00:00:00-08:00    44388\nName: @value, dtype: int64"
     },
     "execution_count": 13,
     "metadata": {},
     "output_type": "execute_result"
    }
   ],
   "source": [
    "by_day.sort_values(ascending=False)[:10]"
   ],
   "metadata": {
    "collapsed": false,
    "pycharm": {
     "name": "#%%\n"
    }
   }
  },
  {
   "cell_type": "code",
   "execution_count": null,
   "outputs": [],
   "source": [],
   "metadata": {
    "collapsed": false,
    "pycharm": {
     "name": "#%%\n"
    }
   }
  }
 ],
 "metadata": {
  "kernelspec": {
   "display_name": "Python 3",
   "language": "python",
   "name": "python3"
  },
  "language_info": {
   "codemirror_mode": {
    "name": "ipython",
    "version": 2
   },
   "file_extension": ".py",
   "mimetype": "text/x-python",
   "name": "python",
   "nbconvert_exporter": "python",
   "pygments_lexer": "ipython2",
   "version": "2.7.6"
  }
 },
 "nbformat": 4,
 "nbformat_minor": 0
}