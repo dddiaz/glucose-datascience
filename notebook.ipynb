{
 "cells": [
  {
   "cell_type": "markdown",
   "metadata": {
    "pycharm": {
     "name": "#%% md\n"
    }
   },
   "source": [
    "# Glucose Data Science\n",
    "---\n",
    "Goal: The goal of this experiment is to see if it is possible to predict which days I have exercised based on the days\n",
    "blood glucose readings.\n",
    "Stretch Goal: Predict the type of excercise.\n",
    "\n",
    "### Technology:\n",
    "- Apple HealthKit\n",
    "- Dexcom Continuous Glucose Monitor\n",
    "- Datascience\n",
    "\n",
    "### High Level Objectives:\n",
    "- Gather Data\n",
    "- Clean Up Data\n",
    "- Inspect Data\n",
    "- ML with Data\n",
    "\n",
    "### Background Information:\n",
    " I have __Type 1 Diabetes__ which is an auto-immune disease that causes my body to attack the insulin\n",
    " producing cells in my pancreas. Insulin is what helps your body use the energy (glucose) in the food you eat. To manage\n",
    " this disease I use some extremely cool pieces of technology. One is a continuous glucose monitor called a __Dexcom__\n",
    " CGM. I wear this cgm on my body, and it measures the amount of glucose in my interstitial fluid ( also known as the\n",
    " fluid between cells) every 5 minutes. That data is then sent to my phone ( even allowing me to view my real time\n",
    " glucose on my Apple Watch! ) as well as my insulin pump. This data, as well as other information is used to help manage\n",
    " my Diabetes.\n",
    "\n",
    " It has been my personal experience, that when I exercise, I tend to have higher insulin sensitivity, usually meaning\n",
    " better blood glucose numbers throughout the day. Your blood glucose is what your body automatically regulates on its\n",
    " own with insulin, but must be done manually as a type 1 diabetic.\n",
    "\n",
    " The goal of this exercise is to see if I can pull that correlation out with data, and possibly see if I can use a\n",
    " Machine Learning Model to predict which days I exercised, based only off my glucose data."
   ]
  },
  {
   "cell_type": "markdown",
   "metadata": {},
   "source": [
    "# Gather Data\n",
    "---\n",
    "The source of the excercise data will be apple healthkit. Apple Healthkit automatically has my excercise data in it from when I\n",
    "track workouts. It also can be configured to sync with the Dexcom iOS app. So now lets see if we can download and load\n",
    "that data.\n",
    "\n",
    "## Export data from phone:\n",
    "- Navigate to health app\n",
    "- click on your profile icon\n",
    "- scroll to bottom and click export all health data\n",
    "- this may take a few minutes\n",
    "- donwload zip\n",
    "- expand zip\n",
    "- this data is pretty sensitive, so don't commit it to git!\n"
   ]
  },
  {
   "cell_type": "code",
   "execution_count": 6,
   "metadata": {},
   "outputs": [
    {
     "name": "stdout",
     "output_type": "stream",
     "text": [
      "The version of python is:  3.6.8 (v3.6.8:3c6b436a57, Dec 24 2018, 02:04:31) \n",
      "[GCC 4.2.1 Compatible Apple LLVM 6.0 (clang-600.0.57)]\n"
     ]
    }
   ],
   "source": [
    "import sys\n",
    "from os import path\n",
    "print(\"The version of python is: \", sys.version)"
   ]
  },
  {
   "cell_type": "markdown",
   "metadata": {
    "pycharm": {
     "name": "#%% md\n"
    }
   },
   "source": [
    "# Let's import this data into pandas"
   ]
  },
  {
   "cell_type": "code",
   "execution_count": 7,
   "metadata": {
    "pycharm": {
     "name": "#%%\n"
    }
   },
   "outputs": [],
   "source": [
    "import pandas as pd\n",
    "input_path = './apple_health_export/export.xml'\n",
    "\n",
    "# Don't do this conversion if we already created the csv cache\n",
    "if not path.isfile('./csv_cache/glucose.csv'):\n",
    "    import xmltodict\n",
    "    with open(input_path, 'r') as xml_file:\n",
    "        input_data = xmltodict.parse(xml_file.read())\n",
    "    # available health records\n",
    "    # thanks to this article for explaining:\n",
    "    #   https://medium.com/better-programming/analyze-your-icloud-health-data-with-pandas-dd5e963e902f\n",
    "    records_list = input_data['HealthData']['Record']\n",
    "    workout_list = input_data['HealthData']['Workout']\n",
    "    activity_list = input_data['HealthData']['ActivitySummary']\n",
    "    # available odict_keys(['@locale', 'ExportDate', 'Me', 'Record', 'Workout', 'ActivitySummary'])\n",
    "\n",
    "    df = pd.DataFrame(records_list)\n",
    "    df.to_csv('./csv_cache/records.csv',header=True, index=False)\n",
    "\n",
    "    df1 = pd.DataFrame(workout_list)\n",
    "    df1.to_csv('./csv_cache/workout.csv',header=True, index=False)\n",
    "\n",
    "    df2 = pd.DataFrame(activity_list)\n",
    "    df2.to_csv('./csv_cache/activity.csv',header=True, index=False)\n",
    "\n",
    "    # Data Wrangling cause this dataset is huuuuuuuge\n",
    "    df3 = pd.DataFrame(records_list)\n",
    "    # I only care about glucose values\n",
    "    df3 = df3[df3[\"@type\"] == 'HKQuantityTypeIdentifierBloodGlucose']\n",
    "    # we only need the the below columns\n",
    "    df3 = df3[['@sourceName', '@creationDate', '@value']]\n",
    "    # This cuts the file from over a gig to 18 megs\n",
    "    df3.to_csv('./csv_cache/glucose.csv',header=True, index=False)\n",
    "\n",
    "    df = df3\n",
    "\n",
    "else:\n",
    "    glucose_df = pd.read_csv('./csv_cache/glucose.csv')\n",
    "    workout_df = pd.read_csv('./csv_cache/workout.csv')"
   ]
  },
  {
   "cell_type": "code",
   "execution_count": 8,
   "metadata": {
    "pycharm": {
     "name": "#%%\n"
    }
   },
   "outputs": [
    {
     "data": {
      "text/plain": "Index(['@sourceName', '@creationDate', '@value'], dtype='object')"
     },
     "execution_count": 8,
     "metadata": {},
     "output_type": "execute_result"
    }
   ],
   "source": [
    "glucose_df.columns"
   ]
  },
  {
   "cell_type": "code",
   "execution_count": 10,
   "outputs": [
    {
     "data": {
      "text/plain": "  @sourceName              @creationDate  @value\n0      Health  2014-10-15 23:09:19 -0800     167\n1      Dexcom  2015-07-18 03:46:02 -0800     265\n2      Dexcom  2015-07-18 03:51:02 -0800     246\n3      Dexcom  2015-07-18 03:56:02 -0800     246\n4      Dexcom  2015-07-18 04:01:02 -0800     233",
      "text/html": "<div>\n<style scoped>\n    .dataframe tbody tr th:only-of-type {\n        vertical-align: middle;\n    }\n\n    .dataframe tbody tr th {\n        vertical-align: top;\n    }\n\n    .dataframe thead th {\n        text-align: right;\n    }\n</style>\n<table border=\"1\" class=\"dataframe\">\n  <thead>\n    <tr style=\"text-align: right;\">\n      <th></th>\n      <th>@sourceName</th>\n      <th>@creationDate</th>\n      <th>@value</th>\n    </tr>\n  </thead>\n  <tbody>\n    <tr>\n      <th>0</th>\n      <td>Health</td>\n      <td>2014-10-15 23:09:19 -0800</td>\n      <td>167</td>\n    </tr>\n    <tr>\n      <th>1</th>\n      <td>Dexcom</td>\n      <td>2015-07-18 03:46:02 -0800</td>\n      <td>265</td>\n    </tr>\n    <tr>\n      <th>2</th>\n      <td>Dexcom</td>\n      <td>2015-07-18 03:51:02 -0800</td>\n      <td>246</td>\n    </tr>\n    <tr>\n      <th>3</th>\n      <td>Dexcom</td>\n      <td>2015-07-18 03:56:02 -0800</td>\n      <td>246</td>\n    </tr>\n    <tr>\n      <th>4</th>\n      <td>Dexcom</td>\n      <td>2015-07-18 04:01:02 -0800</td>\n      <td>233</td>\n    </tr>\n  </tbody>\n</table>\n</div>"
     },
     "execution_count": 10,
     "metadata": {},
     "output_type": "execute_result"
    }
   ],
   "source": [
    "glucose_df.head()"
   ],
   "metadata": {
    "collapsed": false,
    "pycharm": {
     "name": "#%%\n"
    }
   }
  },
  {
   "cell_type": "markdown",
   "source": [
    "## Healthkit Column Reference\n",
    "```python\n",
    "# records\n",
    "Index(['@type', '@sourceName', '@unit', '@creationDate', '@startDate',\n",
    "       '@endDate', '@value', 'MetadataEntry', '@sourceVersion', '@device',\n",
    "       'HeartRateVariabilityMetadataList'],\n",
    "      dtype='object')\n",
    "# workout\n",
    "Index(['@workoutActivityType', '@duration', '@durationUnit', '@totalDistance',\n",
    "       '@totalDistanceUnit', '@totalEnergyBurned', '@totalEnergyBurnedUnit',\n",
    "       '@sourceName', '@sourceVersion', '@creationDate', '@startDate',\n",
    "       '@endDate', 'MetadataEntry', 'WorkoutEvent', 'WorkoutRoute', '@device'],\n",
    "      dtype='object')\n",
    "# activity\n",
    "Index(['@dateComponents', '@activeEnergyBurned', '@activeEnergyBurnedGoal',\n",
    "       '@activeEnergyBurnedUnit', '@appleMoveTime', '@appleMoveTimeGoal',\n",
    "       '@appleExerciseTime', '@appleExerciseTimeGoal', '@appleStandHours',\n",
    "       '@appleStandHoursGoal'],\n",
    "      dtype='object')\n",
    "```"
   ],
   "metadata": {
    "collapsed": false,
    "pycharm": {
     "name": "#%% md\n"
    }
   }
  },
  {
   "cell_type": "code",
   "execution_count": 11,
   "metadata": {
    "pycharm": {
     "name": "#%%\n"
    }
   },
   "outputs": [
    {
     "data": {
      "text/plain": "array(['Health', 'Dexcom', 'Dexcom G6'], dtype=object)"
     },
     "execution_count": 11,
     "metadata": {},
     "output_type": "execute_result"
    }
   ],
   "source": [
    "# Show All data types\n",
    "glucose_df['@sourceName'].unique()\n",
    "\n",
    "# show all source types\n",
    "# df['@device'].unique()\n",
    "\n",
    "# (Optional) Limit Data to phone\n",
    "# df = df[df['@sourceName'].str.contains('iPhone')]"
   ]
  },
  {
   "cell_type": "markdown",
   "metadata": {
    "pycharm": {
     "name": "#%% md\n"
    }
   },
   "source": [
    "OK, so based off my initial analysis, workouts are not located in this dataset, only glucose and other health data.\n",
    "I need to see how i can mege the workout data sets against this one cause thats what i want to test.\n",
    "but in the mean time, lets at least pull out some glucose data\n",
    "\n",
    "Apple docs ref: https://developer.apple.com/documentation/healthkit/hkobjecttype"
   ]
  },
  {
   "cell_type": "code",
   "execution_count": 84,
   "outputs": [],
   "source": [],
   "metadata": {
    "collapsed": false,
    "pycharm": {
     "name": "#%%\n"
    }
   }
  },
  {
   "cell_type": "code",
   "execution_count": 12,
   "outputs": [],
   "source": [
    "# 474135 - 474305\n",
    "\n",
    "last_day_bg = glucose_df[-200:]\n"
   ],
   "metadata": {
    "collapsed": false,
    "pycharm": {
     "name": "#%%\n"
    }
   }
  },
  {
   "cell_type": "code",
   "execution_count": 13,
   "outputs": [
    {
     "data": {
      "text/plain": "<AxesSubplot:>"
     },
     "execution_count": 13,
     "metadata": {},
     "output_type": "execute_result"
    },
    {
     "data": {
      "text/plain": "<Figure size 432x288 with 1 Axes>",
      "image/png": "[encoded data removed]"
     },
     "metadata": {
      "needs_background": "light"
     },
     "output_type": "display_data"
    }
   ],
   "source": [
    "import matplotlib.pyplot as plt\n",
    "last_day_bg.plot(kind='line',y='@value',color='red')"
   ],
   "metadata": {
    "collapsed": false,
    "pycharm": {
     "name": "#%%\n"
    }
   }
  },
  {
   "cell_type": "markdown",
   "source": [
    "Ok the range is looking right, and the graph is continuous which is a good sign."
   ],
   "metadata": {
    "collapsed": false,
    "pycharm": {
     "name": "#%% md\n"
    }
   }
  },
  {
   "cell_type": "markdown",
   "source": [
    "## Data Wrangling\n",
    "\n",
    "OK time for some more data wrangling. The goal is to feed a days worth of glucose values into a NN, and have the\n",
    "the target be a binary 0,1 representing if I excercised that day or not.\n",
    "\n",
    "![Picture of architecture](./images/nn.png \"Image of architecture\")\n",
    "\n",
    "To do that, i need to setup the input layer and output layer.\n",
    "Just to level set, the input layer will be an array of arrays, with each day representing one array, and each array\n",
    "representing a days worth of bucketed glucose values. (i will need to do some work to account for gaps)\n",
    "The out array will just be an array of zeros and ones, with each value representing a day, and if i excercised on that day.\n",
    "\n",
    "\n"
   ],
   "metadata": {
    "collapsed": false,
    "pycharm": {
     "name": "#%% md\n"
    }
   }
  }
 ],
 "metadata": {
  "kernelspec": {
   "display_name": "Python 3",
   "language": "python",
   "name": "python3"
  },
  "language_info": {
   "codemirror_mode": {
    "name": "ipython",
    "version": 3
   },
   "file_extension": ".py",
   "mimetype": "text/x-python",
   "name": "python",
   "nbconvert_exporter": "python",
   "pygments_lexer": "ipython3",
   "version": "3.6.8"
  }
 },
 "nbformat": 4,
 "nbformat_minor": 1
}