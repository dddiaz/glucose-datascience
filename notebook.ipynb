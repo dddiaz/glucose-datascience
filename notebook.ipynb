{
 "cells": [
  {
   "cell_type": "markdown",
   "metadata": {
    "pycharm": {
     "name": "#%% md\n"
    }
   },
   "source": [
    "# Glucose Data Science\n",
    "---\n",
    "Goal: The goal of this experiment is to see if it is possible to predict which days I have exercised based on the days\n",
    "blood glucose readings.\n",
    "Stretch Goal: Predict the type of excercise.\n",
    "\n",
    "### Technology:\n",
    "- Apple HealthKit\n",
    "- Dexcom Continuous Glucose Monitor\n",
    "- Datascience\n",
    "\n",
    "### High Level Objectives:\n",
    "- Gather Data\n",
    "- Clean Up Data\n",
    "- Inspect Data\n",
    "- ML with Data\n",
    "\n",
    "### Background Information:\n",
    " I have __Type 1 Diabetes__ which is an auto-immune disease that causes my body to attack the insulin\n",
    " producing cells in my pancreas. Insulin is what helps your body use the energy (glucose) in the food you eat. To manage\n",
    " this disease I use some extremely cool pieces of technology. One is a continuous glucose monitor called a __Dexcom__\n",
    " CGM. I wear this cgm on my body, and it measures the amount of glucose in my interstitial fluid ( also known as the\n",
    " fluid between cells) every 5 minutes. That data is then sent to my phone ( even allowing me to view my real time\n",
    " glucose on my Apple Watch! ) as well as my insulin pump. This data, as well as other information is used to help manage\n",
    " my Diabetes.\n",
    "\n",
    " It has been my personal experience, that when I exercise, I tend to have higher insulin sensitivity, usually meaning\n",
    " better blood glucose numbers throughout the day. Your blood glucose is what your body automatically regulates on its\n",
    " own with insulin, but must be done manually as a type 1 diabetic.\n",
    "\n",
    " The goal of this exercise is to see if I can pull that correlation out with data, and possibly see if I can use a\n",
    " Machine Learning Model to predict which days I exercised, based only off my glucose data."
   ]
  },
  {
   "cell_type": "markdown",
   "metadata": {},
   "source": [
    "# Gather Data\n",
    "---\n",
    "The source of the excercise data will be apple healthkit. Apple Healthkit automatically has my excercise data in it from when I\n",
    "track workouts. It also can be configured to sync with the Dexcom iOS app. So now lets see if we can download and load\n",
    "that data.\n",
    "\n",
    "## Export data from phone:\n",
    "- Navigate to health app\n",
    "- click on your profile icon\n",
    "- scroll to bottom and click export all health data\n",
    "- this may take a few minutes\n",
    "- donwload zip\n",
    "- expand zip\n",
    "- this data is pretty sensitive, so don't commit it to git!\n"
   ]
  },
  {
   "cell_type": "code",
   "execution_count": 80,
   "metadata": {},
   "outputs": [
    {
     "name": "stdout",
     "output_type": "stream",
     "text": [
      "The version of python is:  3.6.8 (v3.6.8:3c6b436a57, Dec 24 2018, 02:04:31) \n",
      "[GCC 4.2.1 Compatible Apple LLVM 6.0 (clang-600.0.57)]\n"
     ]
    }
   ],
   "source": [
    "import sys\n",
    "from os import path\n",
    "print(\"The version of python is: \", sys.version)"
   ]
  },
  {
   "cell_type": "markdown",
   "metadata": {
    "pycharm": {
     "name": "#%% md\n"
    }
   },
   "source": [
    "# Let's import this data into pandas"
   ]
  },
  {
   "cell_type": "code",
   "execution_count": 81,
   "metadata": {
    "pycharm": {
     "name": "#%%\n"
    }
   },
   "outputs": [
    {
     "name": "stderr",
     "output_type": "stream",
     "text": [
      "/Users/ddiaz/src/glucose-datascience/venv/lib/python3.6/site-packages/IPython/core/interactiveshell.py:3072: DtypeWarning: Columns (6,7,8,9,10) have mixed types.Specify dtype option on import or set low_memory=False.\n",
      "  interactivity=interactivity, compiler=compiler, result=result)\n"
     ]
    }
   ],
   "source": [
    "import pandas as pd\n",
    "input_path = './apple_health_export/export.xml'\n",
    "debug_data = False\n",
    "\n",
    "# Don't do this conversion if we already created the csv cache\n",
    "if not path.isfile('./csv_cache/df.csv'):\n",
    "    import xmltodict\n",
    "    with open(input_path, 'r') as xml_file:\n",
    "        input_data = xmltodict.parse(xml_file.read())\n",
    "    # available health records\n",
    "    # thanks to this article for explaining:\n",
    "    #   https://medium.com/better-programming/analyze-your-icloud-health-data-with-pandas-dd5e963e902f\n",
    "    records_list = input_data['HealthData']['Record']\n",
    "    df = pd.DataFrame(records_list)\n",
    "    # Lets cache with df as a csv, because the load process takes forever\n",
    "    df.to_csv('./csv_cache/df.csv',header=False, index=False)\n",
    "else:\n",
    "    # We can just load the cache file into the df\n",
    "    # FYI TOTAL number of rows: 3967494\n",
    "    if debug_data:\n",
    "        # the data set is over 1gb, and my computer is struggling working with it, this should work around that issue\n",
    "        # this will just give us the last 200000 rows\n",
    "        df = pd.read_csv('./csv_cache/df.csv',\n",
    "                         nrows=1000000,\n",
    "                         skiprows=2967494,\n",
    "                         names=['@type',\n",
    "                                '@sourceName',\n",
    "                                '@unit',\n",
    "                                '@creationDate',\n",
    "                                '@startDate',\n",
    "                                '@endDate',\n",
    "                                '@value',\n",
    "                                'MetadataEntry',\n",
    "                                '@sourceVersion',\n",
    "                                '@device',\n",
    "                                'HeartRateVariabilityMetaDataList'])\n",
    "    else:\n",
    "        # @type,@sourceName,@unit,@creationDate,@startDate,@endDate,@value,MetadataEntry,@sourceVersion,@device,HeartRateVariabilityMetadataList\n",
    "        df = pd.read_csv('./csv_cache/df.csv',\n",
    "                         names=['@type',\n",
    "                                '@sourceName',\n",
    "                                '@unit',\n",
    "                                '@creationDate',\n",
    "                                '@startDate',\n",
    "                                '@endDate',\n",
    "                                '@value',\n",
    "                                'MetadataEntry',\n",
    "                                '@sourceVersion',\n",
    "                                '@device',\n",
    "                                'HeartRateVariabilityMetaDataList'])"
   ]
  },
  {
   "cell_type": "code",
   "execution_count": 82,
   "metadata": {
    "pycharm": {
     "name": "#%%\n"
    }
   },
   "outputs": [
    {
     "data": {
      "text/plain": "Index(['@type', '@sourceName', '@unit', '@creationDate', '@startDate',\n       '@endDate', '@value', 'MetadataEntry', '@sourceVersion', '@device',\n       'HeartRateVariabilityMetaDataList'],\n      dtype='object')"
     },
     "execution_count": 82,
     "metadata": {},
     "output_type": "execute_result"
    }
   ],
   "source": [
    "df.columns"
   ]
  },
  {
   "cell_type": "code",
   "execution_count": 83,
   "metadata": {
    "pycharm": {
     "name": "#%%\n"
    }
   },
   "outputs": [
    {
     "data": {
      "text/plain": "array(['HKQuantityTypeIdentifierBloodGlucose',\n       'HKQuantityTypeIdentifierBodyMassIndex',\n       'HKQuantityTypeIdentifierHeight',\n       'HKQuantityTypeIdentifierBodyMass',\n       'HKQuantityTypeIdentifierHeartRate',\n       'HKQuantityTypeIdentifierBodyFatPercentage',\n       'HKQuantityTypeIdentifierLeanBodyMass',\n       'HKQuantityTypeIdentifierStepCount',\n       'HKQuantityTypeIdentifierDistanceWalkingRunning',\n       'HKQuantityTypeIdentifierBasalEnergyBurned',\n       'HKQuantityTypeIdentifierActiveEnergyBurned',\n       'HKQuantityTypeIdentifierFlightsClimbed',\n       'HKQuantityTypeIdentifierAppleExerciseTime',\n       'HKQuantityTypeIdentifierDistanceCycling',\n       'HKQuantityTypeIdentifierDistanceSwimming',\n       'HKQuantityTypeIdentifierSwimmingStrokeCount',\n       'HKQuantityTypeIdentifierRestingHeartRate',\n       'HKQuantityTypeIdentifierVO2Max',\n       'HKQuantityTypeIdentifierWalkingHeartRateAverage',\n       'HKQuantityTypeIdentifierEnvironmentalAudioExposure',\n       'HKQuantityTypeIdentifierHeadphoneAudioExposure',\n       'HKQuantityTypeIdentifierWalkingDoubleSupportPercentage',\n       'HKQuantityTypeIdentifierSixMinuteWalkTestDistance',\n       'HKQuantityTypeIdentifierAppleStandTime',\n       'HKQuantityTypeIdentifierWalkingSpeed',\n       'HKQuantityTypeIdentifierWalkingStepLength',\n       'HKQuantityTypeIdentifierWalkingAsymmetryPercentage',\n       'HKQuantityTypeIdentifierStairAscentSpeed',\n       'HKQuantityTypeIdentifierStairDescentSpeed',\n       'HKDataTypeSleepDurationGoal',\n       'HKCategoryTypeIdentifierSleepAnalysis',\n       'HKCategoryTypeIdentifierAppleStandHour',\n       'HKCategoryTypeIdentifierMindfulSession',\n       'HKCategoryTypeIdentifierAudioExposureEvent',\n       'HKCategoryTypeIdentifierLowCardioFitnessEvent',\n       'HKCategoryTypeIdentifierHandwashingEvent',\n       'HKQuantityTypeIdentifierHeartRateVariabilitySDNN'], dtype=object)"
     },
     "execution_count": 83,
     "metadata": {},
     "output_type": "execute_result"
    }
   ],
   "source": [
    "# Show All data types\n",
    "df['@type'].unique()\n",
    "\n",
    "# show all source types\n",
    "# df['@device'].unique()\n",
    "\n",
    "# (Optional) Limit Data to phone\n",
    "# df = df[df['@sourceName'].str.contains('iPhone')]"
   ]
  },
  {
   "cell_type": "markdown",
   "metadata": {
    "pycharm": {
     "name": "#%% md\n"
    }
   },
   "source": [
    "OK, so based off my initial analysis, workouts are not located in this dataset, only glucose and other health data.\n",
    "I need to see how i can mege the workout data sets against this one cause thats what i want to test.\n",
    "but in the mean time, lets at least pull out some glucose data\n",
    "\n",
    "Apple docs ref: https://developer.apple.com/documentation/healthkit/hkobjecttype"
   ]
  },
  {
   "cell_type": "code",
   "execution_count": 84,
   "outputs": [],
   "source": [
    "glucose_values = df[df['@type'] == 'HKQuantityTypeIdentifierBloodGlucose']"
   ],
   "metadata": {
    "collapsed": false,
    "pycharm": {
     "name": "#%%\n"
    }
   }
  },
  {
   "cell_type": "code",
   "execution_count": 85,
   "outputs": [],
   "source": [
    "# 474135 - 474305\n",
    "\n",
    "last_day_bg = df[-200:]\n"
   ],
   "metadata": {
    "collapsed": false,
    "pycharm": {
     "name": "#%%\n"
    }
   }
  },
  {
   "cell_type": "code",
   "execution_count": 89,
   "outputs": [
    {
     "data": {
      "text/plain": "<AxesSubplot:>"
     },
     "execution_count": 89,
     "metadata": {},
     "output_type": "execute_result"
    },
    {
     "data": {
      "text/plain": "<Figure size 432x288 with 1 Axes>",
      "image/png": "[encoded data removed]"
     },
     "metadata": {
      "needs_background": "light"
     },
     "output_type": "display_data"
    }
   ],
   "source": [
    "import matplotlib.pyplot as plt\n",
    "last_day_bg.plot(kind='line',y='@value',color='red')"
   ],
   "metadata": {
    "collapsed": false,
    "pycharm": {
     "name": "#%%\n"
    }
   }
  },
  {
   "cell_type": "markdown",
   "source": [
    "Hmm the range looks right, but the variablility looks wrong. may need to filter on device if there are conflicting devices\n",
    "\n"
   ],
   "metadata": {
    "collapsed": false,
    "pycharm": {
     "name": "#%% md\n"
    }
   }
  }
 ],
 "metadata": {
  "kernelspec": {
   "display_name": "Python 3",
   "language": "python",
   "name": "python3"
  },
  "language_info": {
   "codemirror_mode": {
    "name": "ipython",
    "version": 3
   },
   "file_extension": ".py",
   "mimetype": "text/x-python",
   "name": "python",
   "nbconvert_exporter": "python",
   "pygments_lexer": "ipython3",
   "version": "3.6.8"
  }
 },
 "nbformat": 4,
 "nbformat_minor": 1
}